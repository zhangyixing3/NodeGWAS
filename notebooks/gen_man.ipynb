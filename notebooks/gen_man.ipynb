{
 "cells": [
  {
   "cell_type": "code",
   "execution_count": 2,
   "id": "20c1ae7e-37d5-4ae4-b43e-3afebc7f25bd",
   "metadata": {},
   "outputs": [
    {
     "data": {
      "text/html": [
       "<table class=\"dataframe\">\n",
       "<caption>A data.frame: 9 × 1</caption>\n",
       "<thead>\n",
       "\t<tr><th scope=col>V1</th></tr>\n",
       "\t<tr><th scope=col>&lt;chr&gt;</th></tr>\n",
       "</thead>\n",
       "<tbody>\n",
       "\t<tr><td>Srufi.10G020000</td></tr>\n",
       "\t<tr><td>Srufi.06G015570</td></tr>\n",
       "\t<tr><td>Srufi.07G005040</td></tr>\n",
       "\t<tr><td>Srufi.07G015510</td></tr>\n",
       "\t<tr><td>Srufi.06G015900</td></tr>\n",
       "\t<tr><td>Srufi.05G022200</td></tr>\n",
       "\t<tr><td>Srufi.03G035420</td></tr>\n",
       "\t<tr><td>Srufi.02G023890</td></tr>\n",
       "\t<tr><td>Srufi.06G007100</td></tr>\n",
       "</tbody>\n",
       "</table>\n"
      ],
      "text/latex": [
       "A data.frame: 9 × 1\n",
       "\\begin{tabular}{l}\n",
       " V1\\\\\n",
       " <chr>\\\\\n",
       "\\hline\n",
       "\t Srufi.10G020000\\\\\n",
       "\t Srufi.06G015570\\\\\n",
       "\t Srufi.07G005040\\\\\n",
       "\t Srufi.07G015510\\\\\n",
       "\t Srufi.06G015900\\\\\n",
       "\t Srufi.05G022200\\\\\n",
       "\t Srufi.03G035420\\\\\n",
       "\t Srufi.02G023890\\\\\n",
       "\t Srufi.06G007100\\\\\n",
       "\\end{tabular}\n"
      ],
      "text/markdown": [
       "\n",
       "A data.frame: 9 × 1\n",
       "\n",
       "| V1 &lt;chr&gt; |\n",
       "|---|\n",
       "| Srufi.10G020000 |\n",
       "| Srufi.06G015570 |\n",
       "| Srufi.07G005040 |\n",
       "| Srufi.07G015510 |\n",
       "| Srufi.06G015900 |\n",
       "| Srufi.05G022200 |\n",
       "| Srufi.03G035420 |\n",
       "| Srufi.02G023890 |\n",
       "| Srufi.06G007100 |\n",
       "\n"
      ],
      "text/plain": [
       "  V1             \n",
       "1 Srufi.10G020000\n",
       "2 Srufi.06G015570\n",
       "3 Srufi.07G005040\n",
       "4 Srufi.07G015510\n",
       "5 Srufi.06G015900\n",
       "6 Srufi.05G022200\n",
       "7 Srufi.03G035420\n",
       "8 Srufi.02G023890\n",
       "9 Srufi.06G007100"
      ]
     },
     "metadata": {},
     "output_type": "display_data"
    }
   ],
   "source": [
    "genes <- read.table(\"genes\", header = FALSE, stringsAsFactors = FALSE)\n",
    "genes\n"
   ]
  },
  {
   "cell_type": "code",
   "execution_count": 3,
   "id": "c5163212-bf1a-4a4d-b253-2ee4d3f5b74e",
   "metadata": {},
   "outputs": [
    {
     "data": {
      "text/html": [
       "<table class=\"dataframe\">\n",
       "<caption>A data.frame: 6 × 6</caption>\n",
       "<thead>\n",
       "\t<tr><th></th><th scope=col>Chromosome</th><th scope=col>Start</th><th scope=col>End</th><th scope=col>Gene</th><th scope=col>Score</th><th scope=col>Strand</th></tr>\n",
       "\t<tr><th></th><th scope=col>&lt;chr&gt;</th><th scope=col>&lt;int&gt;</th><th scope=col>&lt;int&gt;</th><th scope=col>&lt;chr&gt;</th><th scope=col>&lt;int&gt;</th><th scope=col>&lt;chr&gt;</th></tr>\n",
       "</thead>\n",
       "<tbody>\n",
       "\t<tr><th scope=row>1</th><td>Chr01</td><td> 30717</td><td> 30957</td><td>Srufi.01G000010</td><td>0</td><td>-</td></tr>\n",
       "\t<tr><th scope=row>2</th><td>Chr01</td><td> 65230</td><td> 75322</td><td>Srufi.01G000020</td><td>0</td><td>+</td></tr>\n",
       "\t<tr><th scope=row>3</th><td>Chr01</td><td> 75535</td><td> 79161</td><td>Srufi.01G000030</td><td>0</td><td>-</td></tr>\n",
       "\t<tr><th scope=row>4</th><td>Chr01</td><td> 97856</td><td> 98510</td><td>Srufi.01G000040</td><td>0</td><td>+</td></tr>\n",
       "\t<tr><th scope=row>5</th><td>Chr01</td><td>122541</td><td>126601</td><td>Srufi.01G000050</td><td>0</td><td>-</td></tr>\n",
       "\t<tr><th scope=row>6</th><td>Chr01</td><td>128680</td><td>129863</td><td>Srufi.01G000060</td><td>0</td><td>+</td></tr>\n",
       "</tbody>\n",
       "</table>\n"
      ],
      "text/latex": [
       "A data.frame: 6 × 6\n",
       "\\begin{tabular}{r|llllll}\n",
       "  & Chromosome & Start & End & Gene & Score & Strand\\\\\n",
       "  & <chr> & <int> & <int> & <chr> & <int> & <chr>\\\\\n",
       "\\hline\n",
       "\t1 & Chr01 &  30717 &  30957 & Srufi.01G000010 & 0 & -\\\\\n",
       "\t2 & Chr01 &  65230 &  75322 & Srufi.01G000020 & 0 & +\\\\\n",
       "\t3 & Chr01 &  75535 &  79161 & Srufi.01G000030 & 0 & -\\\\\n",
       "\t4 & Chr01 &  97856 &  98510 & Srufi.01G000040 & 0 & +\\\\\n",
       "\t5 & Chr01 & 122541 & 126601 & Srufi.01G000050 & 0 & -\\\\\n",
       "\t6 & Chr01 & 128680 & 129863 & Srufi.01G000060 & 0 & +\\\\\n",
       "\\end{tabular}\n"
      ],
      "text/markdown": [
       "\n",
       "A data.frame: 6 × 6\n",
       "\n",
       "| <!--/--> | Chromosome &lt;chr&gt; | Start &lt;int&gt; | End &lt;int&gt; | Gene &lt;chr&gt; | Score &lt;int&gt; | Strand &lt;chr&gt; |\n",
       "|---|---|---|---|---|---|---|\n",
       "| 1 | Chr01 |  30717 |  30957 | Srufi.01G000010 | 0 | - |\n",
       "| 2 | Chr01 |  65230 |  75322 | Srufi.01G000020 | 0 | + |\n",
       "| 3 | Chr01 |  75535 |  79161 | Srufi.01G000030 | 0 | - |\n",
       "| 4 | Chr01 |  97856 |  98510 | Srufi.01G000040 | 0 | + |\n",
       "| 5 | Chr01 | 122541 | 126601 | Srufi.01G000050 | 0 | - |\n",
       "| 6 | Chr01 | 128680 | 129863 | Srufi.01G000060 | 0 | + |\n",
       "\n"
      ],
      "text/plain": [
       "  Chromosome Start  End    Gene            Score Strand\n",
       "1 Chr01       30717  30957 Srufi.01G000010 0     -     \n",
       "2 Chr01       65230  75322 Srufi.01G000020 0     +     \n",
       "3 Chr01       75535  79161 Srufi.01G000030 0     -     \n",
       "4 Chr01       97856  98510 Srufi.01G000040 0     +     \n",
       "5 Chr01      122541 126601 Srufi.01G000050 0     -     \n",
       "6 Chr01      128680 129863 Srufi.01G000060 0     +     "
      ]
     },
     "metadata": {},
     "output_type": "display_data"
    }
   ],
   "source": [
    "\n",
    "# 读取 Srufi.v20210930.bed 文件\n",
    "bed_data <- read.table(\"Srufi.v20210930.bed\", header = FALSE, stringsAsFactors = FALSE)\n",
    "colnames(bed_data) <- c(\"Chromosome\", \"Start\", \"End\", \"Gene\", \"Score\", \"Strand\")  # 设置列名\n",
    "head(bed_data)\n"
   ]
  },
  {
   "cell_type": "code",
   "execution_count": 4,
   "id": "b1d829ba-0696-4f29-b744-6127d24590cc",
   "metadata": {},
   "outputs": [
    {
     "name": "stdout",
     "output_type": "stream",
     "text": [
      "  Chromosome    Start      End            Gene Score Strand\n",
      "1      Chr02 68013075 68014275 Srufi.02G023890     0      -\n",
      "2      Chr03 78626674 78633019 Srufi.03G035420     0      -\n",
      "3      Chr05 70594641 70609427 Srufi.05G022200     0      -\n",
      "4      Chr06 36554005 36556749 Srufi.06G007100     0      +\n",
      "5      Chr06 53594367 53617100 Srufi.06G015570     0      -\n",
      "6      Chr06 54341568 54342636 Srufi.06G015900     0      -\n",
      "7      Chr07  9067223  9068398 Srufi.07G005040     0      +\n",
      "8      Chr07 49104897 49110524 Srufi.07G015510     0      -\n",
      "9      Chr10 51422574 51423801 Srufi.10G020000     0      -\n"
     ]
    }
   ],
   "source": [
    "genes <- read.table(\"genes\", header = FALSE, stringsAsFactors = FALSE)\n",
    "genes <- genes$V1 \n",
    "library(dplyr)\n",
    "filtered_bed_data <- bed_data %>%\n",
    "  filter(Gene %in% genes)  # 筛选 genes 中存在的基因\n",
    "print(filtered_bed_data)\n"
   ]
  },
  {
   "cell_type": "code",
   "execution_count": 5,
   "id": "d9f7c19a-39e6-46ca-9b16-5eeaf22ed699",
   "metadata": {},
   "outputs": [
    {
     "data": {
      "text/html": [
       "<table class=\"dataframe\">\n",
       "<caption>A data.frame: 6 × 7</caption>\n",
       "<thead>\n",
       "\t<tr><th></th><th scope=col>Chr</th><th scope=col>start</th><th scope=col>End</th><th scope=col>Node</th><th scope=col>p</th><th scope=col>g</th><th scope=col>t</th></tr>\n",
       "\t<tr><th></th><th scope=col>&lt;chr&gt;</th><th scope=col>&lt;int&gt;</th><th scope=col>&lt;int&gt;</th><th scope=col>&lt;int&gt;</th><th scope=col>&lt;dbl&gt;</th><th scope=col>&lt;chr&gt;</th><th scope=col>&lt;chr&gt;</th></tr>\n",
       "</thead>\n",
       "<tbody>\n",
       "\t<tr><th scope=row>1</th><td>Chr02</td><td> 7199495</td><td> 7199500</td><td>24631236</td><td>0.00067919</td><td>GZZTF</td><td>SCS</td></tr>\n",
       "\t<tr><th scope=row>2</th><td>Chr02</td><td>14384418</td><td>14384438</td><td>26034441</td><td>0.00070535</td><td>GZZTF</td><td>SCS</td></tr>\n",
       "\t<tr><th scope=row>3</th><td>Chr02</td><td>15150850</td><td>15150860</td><td>26186068</td><td>0.00041615</td><td>GZZTF</td><td>SCS</td></tr>\n",
       "\t<tr><th scope=row>4</th><td>Chr02</td><td>15207927</td><td>15207930</td><td>26195714</td><td>0.00035911</td><td>GZZTF</td><td>SCS</td></tr>\n",
       "\t<tr><th scope=row>5</th><td>Chr02</td><td>15395899</td><td>15395941</td><td>26231462</td><td>0.00022012</td><td>GZZTF</td><td>SCS</td></tr>\n",
       "\t<tr><th scope=row>6</th><td>Chr02</td><td>15425150</td><td>15425151</td><td>26235372</td><td>0.00028512</td><td>GZZTF</td><td>SCS</td></tr>\n",
       "</tbody>\n",
       "</table>\n"
      ],
      "text/latex": [
       "A data.frame: 6 × 7\n",
       "\\begin{tabular}{r|lllllll}\n",
       "  & Chr & start & End & Node & p & g & t\\\\\n",
       "  & <chr> & <int> & <int> & <int> & <dbl> & <chr> & <chr>\\\\\n",
       "\\hline\n",
       "\t1 & Chr02 &  7199495 &  7199500 & 24631236 & 0.00067919 & GZZTF & SCS\\\\\n",
       "\t2 & Chr02 & 14384418 & 14384438 & 26034441 & 0.00070535 & GZZTF & SCS\\\\\n",
       "\t3 & Chr02 & 15150850 & 15150860 & 26186068 & 0.00041615 & GZZTF & SCS\\\\\n",
       "\t4 & Chr02 & 15207927 & 15207930 & 26195714 & 0.00035911 & GZZTF & SCS\\\\\n",
       "\t5 & Chr02 & 15395899 & 15395941 & 26231462 & 0.00022012 & GZZTF & SCS\\\\\n",
       "\t6 & Chr02 & 15425150 & 15425151 & 26235372 & 0.00028512 & GZZTF & SCS\\\\\n",
       "\\end{tabular}\n"
      ],
      "text/markdown": [
       "\n",
       "A data.frame: 6 × 7\n",
       "\n",
       "| <!--/--> | Chr &lt;chr&gt; | start &lt;int&gt; | End &lt;int&gt; | Node &lt;int&gt; | p &lt;dbl&gt; | g &lt;chr&gt; | t &lt;chr&gt; |\n",
       "|---|---|---|---|---|---|---|---|\n",
       "| 1 | Chr02 |  7199495 |  7199500 | 24631236 | 0.00067919 | GZZTF | SCS |\n",
       "| 2 | Chr02 | 14384418 | 14384438 | 26034441 | 0.00070535 | GZZTF | SCS |\n",
       "| 3 | Chr02 | 15150850 | 15150860 | 26186068 | 0.00041615 | GZZTF | SCS |\n",
       "| 4 | Chr02 | 15207927 | 15207930 | 26195714 | 0.00035911 | GZZTF | SCS |\n",
       "| 5 | Chr02 | 15395899 | 15395941 | 26231462 | 0.00022012 | GZZTF | SCS |\n",
       "| 6 | Chr02 | 15425150 | 15425151 | 26235372 | 0.00028512 | GZZTF | SCS |\n",
       "\n"
      ],
      "text/plain": [
       "  Chr   start    End      Node     p          g     t  \n",
       "1 Chr02  7199495  7199500 24631236 0.00067919 GZZTF SCS\n",
       "2 Chr02 14384418 14384438 26034441 0.00070535 GZZTF SCS\n",
       "3 Chr02 15150850 15150860 26186068 0.00041615 GZZTF SCS\n",
       "4 Chr02 15207927 15207930 26195714 0.00035911 GZZTF SCS\n",
       "5 Chr02 15395899 15395941 26231462 0.00022012 GZZTF SCS\n",
       "6 Chr02 15425150 15425151 26235372 0.00028512 GZZTF SCS"
      ]
     },
     "metadata": {},
     "output_type": "display_data"
    },
    {
     "data": {
      "text/html": [
       "<table class=\"dataframe\">\n",
       "<caption>A data.frame: 6 × 7</caption>\n",
       "<thead>\n",
       "\t<tr><th></th><th scope=col>Chr</th><th scope=col>start</th><th scope=col>End</th><th scope=col>Node</th><th scope=col>p</th><th scope=col>g</th><th scope=col>t</th></tr>\n",
       "\t<tr><th></th><th scope=col>&lt;chr&gt;</th><th scope=col>&lt;int&gt;</th><th scope=col>&lt;int&gt;</th><th scope=col>&lt;int&gt;</th><th scope=col>&lt;dbl&gt;</th><th scope=col>&lt;chr&gt;</th><th scope=col>&lt;chr&gt;</th></tr>\n",
       "</thead>\n",
       "<tbody>\n",
       "\t<tr><th scope=row>1205937</th><td>Chr01</td><td>117730299</td><td>117730299</td><td>23479142</td><td>0.00031707</td><td>ZZZTF</td><td>SCJ</td></tr>\n",
       "\t<tr><th scope=row>1205938</th><td>Chr01</td><td>117757501</td><td>117757501</td><td>23488020</td><td>0.00021115</td><td>ZZZTF</td><td>SCJ</td></tr>\n",
       "\t<tr><th scope=row>1205939</th><td>Chr01</td><td>117801310</td><td>117801310</td><td>23497797</td><td>0.00066176</td><td>ZZZTF</td><td>SCJ</td></tr>\n",
       "\t<tr><th scope=row>1205940</th><td>Chr01</td><td>117827816</td><td>117827816</td><td>23506225</td><td>0.00052894</td><td>ZZZTF</td><td>SCJ</td></tr>\n",
       "\t<tr><th scope=row>1205941</th><td>Chr01</td><td>117915707</td><td>117915707</td><td>23521820</td><td>0.00010319</td><td>ZZZTF</td><td>SCJ</td></tr>\n",
       "\t<tr><th scope=row>1205942</th><td>Chr01</td><td>117923632</td><td>117923632</td><td>23522628</td><td>0.00074877</td><td>ZZZTF</td><td>SCJ</td></tr>\n",
       "</tbody>\n",
       "</table>\n"
      ],
      "text/latex": [
       "A data.frame: 6 × 7\n",
       "\\begin{tabular}{r|lllllll}\n",
       "  & Chr & start & End & Node & p & g & t\\\\\n",
       "  & <chr> & <int> & <int> & <int> & <dbl> & <chr> & <chr>\\\\\n",
       "\\hline\n",
       "\t1205937 & Chr01 & 117730299 & 117730299 & 23479142 & 0.00031707 & ZZZTF & SCJ\\\\\n",
       "\t1205938 & Chr01 & 117757501 & 117757501 & 23488020 & 0.00021115 & ZZZTF & SCJ\\\\\n",
       "\t1205939 & Chr01 & 117801310 & 117801310 & 23497797 & 0.00066176 & ZZZTF & SCJ\\\\\n",
       "\t1205940 & Chr01 & 117827816 & 117827816 & 23506225 & 0.00052894 & ZZZTF & SCJ\\\\\n",
       "\t1205941 & Chr01 & 117915707 & 117915707 & 23521820 & 0.00010319 & ZZZTF & SCJ\\\\\n",
       "\t1205942 & Chr01 & 117923632 & 117923632 & 23522628 & 0.00074877 & ZZZTF & SCJ\\\\\n",
       "\\end{tabular}\n"
      ],
      "text/markdown": [
       "\n",
       "A data.frame: 6 × 7\n",
       "\n",
       "| <!--/--> | Chr &lt;chr&gt; | start &lt;int&gt; | End &lt;int&gt; | Node &lt;int&gt; | p &lt;dbl&gt; | g &lt;chr&gt; | t &lt;chr&gt; |\n",
       "|---|---|---|---|---|---|---|---|\n",
       "| 1205937 | Chr01 | 117730299 | 117730299 | 23479142 | 0.00031707 | ZZZTF | SCJ |\n",
       "| 1205938 | Chr01 | 117757501 | 117757501 | 23488020 | 0.00021115 | ZZZTF | SCJ |\n",
       "| 1205939 | Chr01 | 117801310 | 117801310 | 23497797 | 0.00066176 | ZZZTF | SCJ |\n",
       "| 1205940 | Chr01 | 117827816 | 117827816 | 23506225 | 0.00052894 | ZZZTF | SCJ |\n",
       "| 1205941 | Chr01 | 117915707 | 117915707 | 23521820 | 0.00010319 | ZZZTF | SCJ |\n",
       "| 1205942 | Chr01 | 117923632 | 117923632 | 23522628 | 0.00074877 | ZZZTF | SCJ |\n",
       "\n"
      ],
      "text/plain": [
       "        Chr   start     End       Node     p          g     t  \n",
       "1205937 Chr01 117730299 117730299 23479142 0.00031707 ZZZTF SCJ\n",
       "1205938 Chr01 117757501 117757501 23488020 0.00021115 ZZZTF SCJ\n",
       "1205939 Chr01 117801310 117801310 23497797 0.00066176 ZZZTF SCJ\n",
       "1205940 Chr01 117827816 117827816 23506225 0.00052894 ZZZTF SCJ\n",
       "1205941 Chr01 117915707 117915707 23521820 0.00010319 ZZZTF SCJ\n",
       "1205942 Chr01 117923632 117923632 23522628 0.00074877 ZZZTF SCJ"
      ]
     },
     "metadata": {},
     "output_type": "display_data"
    }
   ],
   "source": [
    "library(ggplot2)\n",
    "library(dplyr)\n",
    "\n",
    "# 定义文件名列表\n",
    "a <- c(\"GZZTF\", \"HYTF\", \"SCD\", \"TCD\", \"ZGD\", \"ZLCD\", \"ZXWF\", \"ZZZTF\")\n",
    "\n",
    "n <- 0\n",
    "# 循环读取文件并合并数据\n",
    "for (i in a) {\n",
    "  d <- read.table(paste0(i, \".position\"), header = T)\n",
    "  d$g <- i  \n",
    "  colnames(d) <- c(\"Chr\", \"start\", \"End\", \"Node\", \"p\", \"g\")\n",
    "  \n",
    "  # 合并数据\n",
    "  if (n == 0) {\n",
    "    out <- d\n",
    "    n <- 1\n",
    "  } else {\n",
    "    out <- rbind(out, d)\n",
    "  }\n",
    "}\n",
    "out <- out %>%\n",
    "  mutate(t = case_when(\n",
    "    g == \"GZZTF\" ~ \"SCS\",\n",
    "    g == \"HYTF\" ~ \"RS\",\n",
    "    g == \"SCD\" ~ \"AP\",\n",
    "    g == \"TCD\" ~ \"BX\",\n",
    "    g == \"ZGD\" ~ \"Pol\",\n",
    "    g == \"ZLCD\" ~ \"GP\",\n",
    "    g == \"ZXWF\" ~ \"FC\",\n",
    "    g == \"ZZZTF\" ~ \"SCJ\",\n",
    "    TRUE ~ NA_character_  # 默认值（如果没有匹配项）\n",
    "  ))\n",
    "\n",
    "# 查看数据框\n",
    "head(out)\n",
    "tail(out)\n",
    "\n",
    "# 绘制基因图并添加散点图\n",
    "selected_gene <- \"Srufi.06G007100\"  # 选择一个基因\n",
    "gene_data <- filtered_bed_data %>% filter(Gene == selected_gene)\n",
    "x_range <- c(min(gene_data$Start) - 5000, max(gene_data$End) + 5000)\n",
    "\n",
    "# 创建基因图并按性状分面\n",
    "f = ggplot() +  \n",
    "  # 绘制 mRNA 的箭头线段，处理正负链\n",
    "  geom_segment(data = gene_data,\n",
    "               mapping = aes(x = Start, y = 1, xend = End, yend = 1),\n",
    "               arrow = arrow(length = unit(0.3, \"cm\"), ends = ifelse(gene_data$Strand == \"+\", \"last\", \"first\")),\n",
    "               color = \"black\") +\n",
    "  \n",
    "  # 添加散点图，绘制每个文件的 p 值\n",
    "  geom_point(data = out %>% filter(Chr == gene_data$Chr), \n",
    "             aes(x = start, y = -log10(p), color = g),  # 根据性状分配颜色\n",
    "             alpha = 0.6, size = 2) +\n",
    "  geom_hline(yintercept=-log10(1/45592180), colour=\"red\") + \n",
    "  # 设置坐标轴和范围\n",
    "  scale_x_continuous(expand = c(0, 0), limits = x_range,labels = function(x) sprintf(\"%.3fMb\", x  / 1000000)) +  # 自由的X轴范围\n",
    "  \n",
    "  labs(x = \"Position\", y = \"-log10(value)\", title = selected_gene) +\n",
    "  \n",
    "  # 分面绘制：按性状 (g) 分面\n",
    "  facet_wrap(~ t, nrow = 4,scales = \"free_y\") +\n",
    "  \n",
    "  # 设置标题居中\n",
    "  theme(axis.text.x = element_text(hjust = 0.5,angle = 10),\n",
    "        plot.title = element_text(hjust = 0.5))  # 设置标题居中\n",
    "\n"
   ]
  },
  {
   "cell_type": "code",
   "execution_count": null,
   "id": "e76261ca-a541-4c47-a589-cb456281b272",
   "metadata": {},
   "outputs": [],
   "source": []
  }
 ],
 "metadata": {
  "kernelspec": {
   "display_name": "R",
   "language": "R",
   "name": "ir"
  },
  "language_info": {
   "codemirror_mode": "r",
   "file_extension": ".r",
   "mimetype": "text/x-r-source",
   "name": "R",
   "pygments_lexer": "r",
   "version": "4.3.3"
  }
 },
 "nbformat": 4,
 "nbformat_minor": 5
}
